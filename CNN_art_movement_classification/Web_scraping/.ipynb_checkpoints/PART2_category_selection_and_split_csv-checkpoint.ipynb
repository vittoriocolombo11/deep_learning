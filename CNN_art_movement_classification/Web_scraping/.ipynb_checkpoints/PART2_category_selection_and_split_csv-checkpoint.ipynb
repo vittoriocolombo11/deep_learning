{
 "cells": [
  {
   "cell_type": "code",
   "execution_count": 2,
   "metadata": {},
   "outputs": [],
   "source": [
    "import pandas as pd\n",
    "import os"
   ]
  },
  {
   "cell_type": "code",
   "execution_count": 3,
   "metadata": {
    "scrolled": false
   },
   "outputs": [
    {
     "name": "stdout",
     "output_type": "stream",
     "text": [
      "we have 29311 images.\n"
     ]
    }
   ],
   "source": [
    "#========================================================================\n",
    "# READING DATA\n",
    "#========================================================================\n",
    "\n",
    "df = pd.read_csv(\"links_final.csv\").iloc[:,1:]\n",
    "# categories to filter\n",
    "# l is all the categories we have\n",
    "l = ['Realismo', 'Art Nouveau', 'Arte Vittoriana', 'Romanticismo',\n",
    "       'Primo Rinascimento',\n",
    "       'Classicismo', 'Barocco', 'Espressionismo', 'Modernismo classico',\n",
    "       'Post-impressionismo', 'Arte concreta figurativa', 'Rococò',\n",
    "       'Rinascimento', 'Arte astratta', 'Cubismo e de stijil',\n",
    "       'Fotografie', 'Arte Asiatica', 'Arte Figurativa astratta',\n",
    "       'Manierismo', 'Stile Biedermeier', 'Impressionismo', 'Simbolismo',\n",
    "       'Arte Antica', 'Surrealismo contemporaneo', 'Arte astratta figurativa',\n",
    "       'Arte Gotica', \"Opere d'arte del XX secolo\", 'Arte Naïf',\n",
    "       'Tardo Rinascimento', 'Arte Europa orientale',\n",
    "       'Pointilismo/ Neoimpressionismo', '19mo secolo', 'Surrealismo',\n",
    "       'Arte Americana', 'Pittura iconica'] # we don't consider artista non identificato \n",
    "\n",
    "# we consider only groups with at least 2 thousand entries AND arte astratta figurativa and arte figurativa astratta\n",
    "# we might aggregate them together\n",
    "# we do not consider fotografie \n",
    "\n",
    "#========================================================================\n",
    "# FILTERING\n",
    "#========================================================================\n",
    "\n",
    "t = df[df.art_movement.isin(l)].groupby(\"art_movement\").count().reset_index()\n",
    "filters = t[((t.image_link >= 2000)|\\\n",
    "          (t.art_movement.isin(['Arte astratta figurativa','Arte Figurativa astratta']))) &\\\n",
    "          (~t.art_movement.isin(['Fotografie']))].art_movement.tolist()\n",
    "\n",
    "df2 = df[df.art_movement.isin(filters)].reset_index().iloc[:,1:]\n",
    "\n",
    "print(\"we have\", len(df2), \"images.\")\n",
    "\n",
    "#========================================================================\n",
    "# PARTITIONING\n",
    "#========================================================================\n",
    "\n",
    "# we partition our dataframe in 4 parts to speed up the process of getting height and width\n",
    "\n",
    "part1 = df2.loc[:7327,:].reset_index().iloc[:,1:]\n",
    "part2 = df2.loc[7328:7327*2,:].reset_index().iloc[:,1:]\n",
    "part3 = df2.loc[7327*2+1:7327*3,:].reset_index().iloc[:,1:]\n",
    "part4 = df2.loc[7327*3+1:,].reset_index().iloc[:,1:]\n",
    "\n",
    "#========================================================================\n",
    "# DIRECTORY FOR TXT DATA\n",
    "# drop the r before directory if you are a Mac user\n",
    "#========================================================================\n",
    "\n",
    "BASE_DIR = os.getcwd()\n",
    "ext = \"/temp_txt\"\n",
    "\n",
    "if not os.path.isdir(BASE_DIR+ext):\n",
    "    os.mkdir(BASE_DIR+ext)\n",
    "    \n",
    "os.chdir(BASE_DIR+ext)\n",
    "\n",
    "part1.to_csv('part1.csv')\n",
    "part2.to_csv('part2.csv')\n",
    "part3.to_csv('part3.csv')\n",
    "part4.to_csv('part4.csv')"
   ]
  }
 ],
 "metadata": {
  "kernelspec": {
   "display_name": "Python 3",
   "language": "python",
   "name": "python3"
  },
  "language_info": {
   "codemirror_mode": {
    "name": "ipython",
    "version": 3
   },
   "file_extension": ".py",
   "mimetype": "text/x-python",
   "name": "python",
   "nbconvert_exporter": "python",
   "pygments_lexer": "ipython3",
   "version": "3.7.3"
  }
 },
 "nbformat": 4,
 "nbformat_minor": 2
}
