{
 "cells": [
  {
   "cell_type": "markdown",
   "metadata": {},
   "source": [
    "# Deep learning for Computer Vision - Final Project\n",
    "\n",
    "- Andrea Borsani - **3012220**\n",
    "- Vittorio Colombo - **3009107**\n",
    "- Clara Marioni - **3007455**\n",
    "- Silvia Nuti - **1831031**"
   ]
  },
  {
   "cell_type": "markdown",
   "metadata": {},
   "source": [
    "## Table of contents <a name=\"tocs\"></a>\n",
    "\n",
    "- [1. Business idea](#business_idea)\n",
    "- [2. Imports](#imports)\n",
    "- [3. Web scraping](#web_scraping)\n",
    "- [4. Image classification](#img_class)\n",
    "    - [4.1. Model selection](#model_selection)\n",
    "    - [4.2. VGG16 - Augmented or not augmented?](#data_aug)\n",
    "    - [4.3. VGG16 - The model](#model)\n",
    "    - [4.4. Evaluation of performance](#evaluation)\n",
    "- [5. Style transfer](#style_transfer)\n",
    "- [6. Possible ameliorations](#further)\n",
    "- [7. References](#references)"
   ]
  },
  {
   "cell_type": "markdown",
   "metadata": {},
   "source": [
    "## 1. Business idea <a name=\"business_idea\"></a>"
   ]
  },
  {
   "cell_type": "markdown",
   "metadata": {},
   "source": [
    "Within the vast scope of application of neural networks for computer vision, what captured our attention after much brainstorming was the possibility to cathegorize paintings according to the correspondent artistic movement. \n",
    "\n",
    "Even if at first this may not seem to provide a real business application it really goes deeper than what one would normally expect. For instance, the topic not only gives us the possibility to implement **image classification** and a **generative model**, but both these perspectives also have a **\"real world\" application**. More precisely, on the one hand, the recognition of the artistic movement from the picture of a painting can indeed be relevant if we put ourselves in the framework of museums, for example; indeed, this procedure could be helpful for a museum digital guide - which would allow the user to take a picture of the painting and be able to aknowledge the artistic movement - and even, if it is the case, for a specific app, following the same rationale of the user aiming at learning more about the painting he/she discovers. On the other, the generative model allows the user to apply a specific artistic style as a filter to his/her own picture, which in such a digital and social world can turn out being very handy and peculiar. In this sense, this technology could be implemented in a specific \"filter app\" or, potentially, even by the greatest competitors in the market (namely Instagram, Facebook, ecc)."
   ]
  },
  {
   "cell_type": "markdown",
   "metadata": {},
   "source": [
    "In the next sections of this report, our work will be displayed and explained under a more technical perspective following the different steps we complied to, namely the web scraping procedure we used to gather the data (in [section 3](#web_scraping)), the neural network which classifies the paintings according to the artistic movement ([section 4](#img_class)) and, finally, the style transfer generative model, which allowed us to transpose the style of artistic movements upon a picture ([section 5](#style_transfer)). Eventually, one last section will outline the possible improvements which could be implemented in the models and which were here found to be out of scope or of time constraints ([section 6](#further))."
   ]
  },
  {
   "cell_type": "markdown",
   "metadata": {},
   "source": [
    "[Go back to top](#tocs)"
   ]
  },
  {
   "cell_type": "markdown",
   "metadata": {},
   "source": [
    "## 2. Imports <a name=\"imports\"></a>"
   ]
  },
  {
   "cell_type": "code",
   "execution_count": 1,
   "metadata": {},
   "outputs": [],
   "source": [
    "import pandas as pd\n",
    "import numpy as np\n",
    "from PIL import Image\n",
    "import os\n",
    "import pandas as pd\n",
    "import numpy as np\n",
    "import matplotlib.pyplot as plt\n",
    "import seaborn as sns\n",
    "import matplotlib.patches as mpatches\n",
    "\n",
    "# image classification\n",
    "import warnings\n",
    "import tensorflow as tf\n",
    "from tensorflow.keras import layers, models, optimizers, regularizers\n",
    "from tensorflow.keras.preprocessing.image import ImageDataGenerator\n",
    "from tensorflow.keras.applications import VGG16\n",
    "from tensorflow.keras.callbacks import CSVLogger, EarlyStopping\n",
    "from tensorflow.keras.models import load_model\n",
    "\n",
    "# model accuracy\n",
    "from sklearn.metrics import classification_report, confusion_matrix\n",
    "\n",
    "#style transfer\n",
    "import tensorflow.keras\n",
    "from tensorflow.keras.preprocessing.image import load_img, img_to_array\n",
    "from tensorflow.keras.applications import vgg19\n",
    "from tensorflow.keras import backend as K\n",
    "from scipy.optimize import fmin_l_bfgs_b\n",
    "#from scipy.misc import imsave # CAMBIARE IMPORT SAVING\n",
    "import time\n",
    "\n",
    "# NB: please, note that we did not include the imports for the web scraping procedure since they will be visible in the\n",
    "# correspondent notebook (see next section for further details)"
   ]
  },
  {
   "cell_type": "markdown",
   "metadata": {},
   "source": [
    "[Go back to top](#tocs)"
   ]
  },
  {
   "cell_type": "markdown",
   "metadata": {},
   "source": [
    "## 3. Web scraping <a name=\"web_scraping\"></a>"
   ]
  },
  {
   "cell_type": "markdown",
   "metadata": {},
   "source": [
    "First step in our project is to gather the data we will need to train the models; hence, we need paintings! In order to collect them we accessed the website [\"copia-di-arte.com\"](https://www.copia-di-arte.com/) and through the web scraping procedure we downloaded the images. \n",
    "\n",
    "Please, to examine the code have a look at the [Nome notebook web scraping](Web_scraping\\nome_file.py) file we provided."
   ]
  },
  {
   "cell_type": "markdown",
   "metadata": {},
   "source": [
    "Eventually, we scraped 16000 images belonging to 8 art movements - Arte concreta figurativa, Barocco, Classicismo, Espressionismo, Impressionismo, Post-impressionismo, Rinascimento e Romanticismo- which were divided into the three sets - train, test and validation - needed for the model training, with respective proportions of 0.7, 0.1, 0.2.\n",
    "\n",
    "Then, after manually checking the images and eliminating the frames from the images (which could have created problems during the training phase), our paintings were ready to be fed to the neural network. Please refer to the next section for this implementation.\n",
    "\n",
    "**NB**: Please mind that we provided you with the images we scraped in the folder \"Data\", so that you do not have to run the web scraping unless you want to."
   ]
  },
  {
   "cell_type": "markdown",
   "metadata": {},
   "source": [
    "[Go back to top](#tocs)"
   ]
  },
  {
   "cell_type": "markdown",
   "metadata": {},
   "source": [
    "## 4. Image classification <a name=\"img_class\"></a>"
   ]
  },
  {
   "cell_type": "markdown",
   "metadata": {},
   "source": [
    "In order to proceed with the image classification, two more steps were needed:\n",
    "- Decide which movements to include in the model\n",
    "- Decide which model to use\n",
    "\n",
    "In the manual check of the images we noticed that some artistic movements were very similar: therefore, in order to obtain a more accurate classifier, we decided to drop Barocco and Post-Impressionismo, thinking that the algorithm would not have been able to discern among these classes.\n",
    "\n",
    "Turning to the second point, we decided to rely on pre-trained networks using the already-trained weights, and fine-tuning only the last Dense layer. We tried out 3 different existing architechtures, in particular:\n",
    "\n",
    "**- DenseNet**\n",
    "\n",
    "**- VGG16**\n",
    "\n",
    "**- VGG19**\n",
    "\n",
    "At the same time, we tried to find the best combination of hyperparameters in terms of validation accuracy, without overfitting too much the train dataset. In particular, we focused on the last dense layer's size, the learning rate, the batch size, the dropout rate and the number of epochs. We also tried to add an l1 and l2 regularization on the Dense layer with very small values (around 0.0001) but we did not get any kind of improvement."
   ]
  },
  {
   "cell_type": "markdown",
   "metadata": {},
   "source": [
    "### 4.1 Model selection <a name=\"model_selection\"></a>"
   ]
  },
  {
   "cell_type": "markdown",
   "metadata": {},
   "source": [
    "After some trial and error, we discarded the DenseNet architechture because it was too much prone to overfitting. On the contrary, VGG16 and VGG19 reached better and similar levels of accuracy, so we focused on these two. Below you can find a comparison between the performance of VGG19 versus VGG16."
   ]
  },
  {
   "cell_type": "code",
   "execution_count": null,
   "metadata": {
    "scrolled": false
   },
   "outputs": [],
   "source": [
    "cwd = os.getcwd()\n",
    "os.chdir(cwd+'/logs')\n",
    "\n",
    "# MERGING ALL LOGS OF ALL MODELS\n",
    "df = pd.DataFrame()\n",
    "for file in os.listdir():\n",
    "    if '.csv' in file:\n",
    "        try:\n",
    "            temp = pd.read_csv(file)\n",
    "            temp['model'] = [file] * len(temp)\n",
    "            df = df.append(temp)\n",
    "        except:\n",
    "            pass\n",
    "        \n",
    "os.chdir(cwd)\n",
    "\n",
    "# PICKING THE BEST MODEL (on validation accuracy)\n",
    "best_model = df[df.val_acc == df.val_acc.max()].model.values[0]\n",
    "\n",
    "# we have to compare the 2 models but VGG19 has 100 epochs so we need to filter VGG16 for the same number of epochs\n",
    "best_model_log = df[(df.model == best_model) & (df.epoch <= 99)]\n",
    "vgg19 = df[df.model.str.contains(\"VGG19_2\")]\n",
    "\n",
    "def model_comparison(df1, df2, first_name, second_name):\n",
    "    \n",
    "    graph_title = f\"{first_name} vs. {second_name}\" # combining the two names in the graph title\n",
    "    x = [i for i in range(max([df1.epoch.max(), df2.epoch.max()])+1)] # the # epochs\n",
    "    train_acc1 = df1.acc.tolist() # trainaccuracy of VGG16\n",
    "    val_acc1 = df1.val_acc.tolist() # validation accuracy of VGG16\n",
    "    \n",
    "    # same VGG19\n",
    "    train_acc2 = df2.acc.tolist()\n",
    "    val_acc2 = df2.val_acc.tolist()\n",
    "    \n",
    "    # setting the graph\n",
    "    plt.figure(figsize=(12, 10))\n",
    "    plt.title(graph_title, size=25)\n",
    "    plt.xlabel(\"epochs\", size=15)\n",
    "    plt.ylabel(\"accuracy\", size=15)\n",
    "    \n",
    "    # plotting the VGG16 model\n",
    "    ax = sns.lineplot(x=x, y=train_acc1, linewidth=3, color=\"b\") # train accuracy\n",
    "    ax = sns.lineplot(x=x, y=val_acc1, linewidth=3, color=\"b\") # validation accuracy\n",
    "    \n",
    "    # plotting the VGG19 model\n",
    "    ax = sns.lineplot(x=x, y=train_acc2, linewidth=3, color=\"r\") # train accuracy\n",
    "    ax = sns.lineplot(x=x, y=val_acc2, linewidth=3, color=\"r\") # validation accuracy\n",
    "    \n",
    "    # validation lines are dashed\n",
    "    ax.lines[1].set_linestyle(\":\")\n",
    "    ax.lines[3].set_linestyle(\":\")\n",
    "    \n",
    "    # manually setting the legend\n",
    "    red_patch = mpatches.Patch(color='b', label=f'{first_name} (validation dashed)')\n",
    "    blue_patch = mpatches.Patch(color='r', label=f'{second_name} (validation dashed)')\n",
    "    plt.legend(handles=[red_patch, blue_patch])\n",
    "    plt.show()"
   ]
  },
  {
   "cell_type": "code",
   "execution_count": null,
   "metadata": {
    "scrolled": false
   },
   "outputs": [],
   "source": [
    "model_comparison(best_model_log, vgg19, first_name=\"VGG16\", second_name=\"VGG19\")"
   ]
  },
  {
   "cell_type": "markdown",
   "metadata": {},
   "source": [
    "By analyzing the performance of the models, we concluded that even though VGG16 and VGG19 reached the same level of validation accuracy, VGG19 was probably overfitting the training data, and we thought that VGG16 was the best performing model and had a higher possibility to improve. Hence, we focused on it and repeated the tuning procedure. Eventually, we obtained the set of parameters which was able to return the most accurate outcome, namely:\n",
    "\n",
    "**- batch size = 32**\n",
    "\n",
    "**- learning rate = 1e-5**: smaller values led to a too slow network, while higher values overfitted too much the train data\n",
    "\n",
    "**- dropout rate = 0.3**: we noticed that the model was particularly sensitive to the dropout rate: usual dropout rates around 0.4 and 0.5 limited the model around a validation accuracy of 55%\n",
    "\n",
    "**- Number of epochs**: our best performing model reaches a good enough accuracy after 80 epochs (more or less). After that, it does not show significant improvements. Since it was just the model selection part, we let the model run with 400 epochs and an early stopping after 80 epochs in case the model had not shown high enough improvements (+0.001) on the validation accuracy. Since the model stopped at the 288th epoch, we concluded that around the 200th epoch there was not more room for improvement. Thus, we ran our definitive model with **250 epochs** and a smaller **early stopping rule of 50.** "
   ]
  },
  {
   "cell_type": "markdown",
   "metadata": {},
   "source": [
    "### 4.2. VGG16 - Augmented or not augmented? <a name=\"data_aug\"></a>"
   ]
  },
  {
   "cell_type": "markdown",
   "metadata": {},
   "source": [
    "Eventually, one last thing we figured out turned out to be the most curious one: we noticed that applying **Image Augmentation** to our train dataset (hence fitting the model on a higher number of images), our model was suddenly underfitting: neither the train accuracy nor the validation accuracy were able to go beyond a 59-60%, as it can be seen from the graph below."
   ]
  },
  {
   "cell_type": "code",
   "execution_count": null,
   "metadata": {
    "scrolled": true
   },
   "outputs": [],
   "source": [
    "img_aug_yes = df[df.model == 'VGG16_150x150_epochs150_lr1e-05_dropout0.3_lastLsize2056.csv']\n",
    "best_model_log2 = df[(df.model == best_model) & (df.epoch < len(img_aug_yes))]"
   ]
  },
  {
   "cell_type": "code",
   "execution_count": null,
   "metadata": {
    "scrolled": false
   },
   "outputs": [],
   "source": [
    "model_comparison(img_aug_yes, best_model_log2, first_name=\"VGG16 Augmented\", second_name=\"VGG16 Not Augmented\")"
   ]
  },
  {
   "cell_type": "markdown",
   "metadata": {},
   "source": [
    "We can see that the model with augmented images reaches quite fast a good level of accuracy (around 60%), but then it does not improve at all. The model should have run until the 150th epoch but it stopped prematurely, even though we were very tolerant with the early stopping. The weirdest thing  is that the training data's curve does not improve at all and even trying with a higher number of epochs, a higher learning rate and a higher tolerance for early stopping, did not allow us to break the 60% accuracy wall. \n",
    "\n",
    "Our explanation is that we have built a good-enough network that still is not complex enough, and is not able to capture relevant patterns in the training data. While the model's simplicity works fine with a relatively small dataset, it creates underfitting problems on a higher amount of data. Even though we could have tried out more complex models, with a higher number of neurons in the last Dense layer or with more Convolutional and Dense layers, we decided that it was not worth for computational reasons.\n",
    "\n",
    "Therefore, we stuck with our VGG16 without Image Augmentation, that performs well enough according to us."
   ]
  },
  {
   "cell_type": "markdown",
   "metadata": {},
   "source": [
    "### 4.3. VGG16 - The model <a name=\"model\"></a> "
   ]
  },
  {
   "cell_type": "markdown",
   "metadata": {},
   "source": [
    "Hereby, we show the code we ran to perform the image classification procedure, as said, through the VGG16 architecture.\n",
    "\n",
    "**NB**: Please, mind that we have provided you already with the saved model that we obtained during trial, hence you can directly go to [following section](#evaluation) for the model evaluation without running the following cell."
   ]
  },
  {
   "cell_type": "code",
   "execution_count": null,
   "metadata": {},
   "outputs": [],
   "source": [
    "config = tf.ConfigProto()\n",
    "config.gpu_options.allow_growth=True\n",
    "sess = tf.Session(config=config)\n",
    "\n",
    "warnings.simplefilter('ignore')\n",
    "\n",
    "main_dir = os.getcwd()\n",
    "train_dir = f\"{main_dir}/REAL_DATA/Train\"\n",
    "validation_dir = f\"{main_dir}/REAL_DATA/Validation\"\n",
    "test_dir = f\"{main_dir}/REAL_DATA/Test\"\n",
    "\n",
    "num_of_train_samples = 0\n",
    "num_of_val_samples = 0\n",
    "num_of_test_samples = 0\n",
    "\n",
    "os.chdir(validation_dir)\n",
    "for directory in os.listdir():\n",
    "    os.chdir(validation_dir + \"/\" + directory)\n",
    "    num_of_val_samples += len(os.listdir())\n",
    "    os.chdir(validation_dir)\n",
    "\n",
    "os.chdir(train_dir)\n",
    "for directory in os.listdir():\n",
    "    os.chdir(train_dir + \"/\" + directory)\n",
    "    num_of_train_samples += len(os.listdir())\n",
    "    os.chdir(train_dir)\n",
    "    \n",
    "os.chdir(test_dir)\n",
    "for directory in os.listdir():\n",
    "    os.chdir(test_dir + \"/\" + directory)\n",
    "    num_of_test_samples += len(os.listdir())\n",
    "    os.chdir(test_dir)\n",
    "\n",
    "os.chdir(main_dir)\n",
    "\n",
    "# PARAMETERS\n",
    "\n",
    "img_rows = 150\n",
    "img_cols = 150\n",
    "batch_size = 32\n",
    "epochs = 250\n",
    "learning_rate = 1e-5\n",
    "dropout_rate = 0.3\n",
    "l1_regularization = 0.0\n",
    "l2_regularization = 0.0\n",
    "stop_patience = epochs // 5\n",
    "last_layer_size = 2056\n",
    "num_classes = 6\n",
    "img_aug = 'no'\n",
    "\n",
    "OUTPUT_NAME = f'''./logs/VGG16_{str(img_rows)}x{str(img_cols)}_imgaug{img_aug}_epochs{str(epochs)}_lr{str(learning_rate)}_dropout{str(dropout_rate)}_lastLsize{str(last_layer_size)}.csv'''\n",
    "# MODEL\n",
    "conv_base = VGG16(weights='imagenet',\n",
    "                  include_top=False,\n",
    "                  input_shape=(img_rows, img_cols, 3)\n",
    "                  )\n",
    "conv_base.trainable = False\n",
    "model = models.Sequential()\n",
    "model.add(conv_base)\n",
    "model.add(layers.Flatten(data_format='channels_last'))\n",
    "model.add(layers.Dropout(rate=dropout_rate, seed=777))\n",
    "model.add(layers.Dense(last_layer_size, \n",
    "                       activation='relu',\n",
    "                       kernel_regularizer=regularizers.l1_l2(l1=l1_regularization, l2=l2_regularization))\n",
    "                       )     \n",
    "model.add(layers.Dense(num_classes, \n",
    "                activation='softmax',\n",
    "                kernel_regularizer=regularizers.l1_l2(l1=l1_regularization, l2=l2_regularization))                       )\n",
    "\n",
    "# COMPILING\n",
    "model.compile(loss='categorical_crossentropy',\n",
    "              optimizer=optimizers.RMSprop(lr=learning_rate),\n",
    "              metrics=['acc'])\n",
    "\n",
    "# CALLBACKS\n",
    "earlystop = EarlyStopping(\n",
    "    monitor='val_acc',\n",
    "    min_delta=0.001,\n",
    "    patience=stop_patience,\n",
    "    verbose=1,\n",
    "    baseline=0.5,\n",
    "    mode='auto'\n",
    ")\n",
    "\n",
    "csv_logger = CSVLogger(OUTPUT_NAME,\n",
    "                       separator=',',\n",
    "                       append=False)\n",
    "# DATA\n",
    "if img_aug == 'yes':\n",
    "    train_datagen = ImageDataGenerator(rescale=1. / 255,\n",
    "                                   rotation_range=40,\n",
    "                                   width_shift_range=0.2,\n",
    "                                   height_shift_range=0.2,\n",
    "                                   shear_range=0.2,\n",
    "                                   zoom_range=0.2,\n",
    "                                   horizontal_flip=True)\n",
    "else:\n",
    "    train_datagen = ImageDataGenerator(rescale=1. / 255)\n",
    "\n",
    "validation_datagen = ImageDataGenerator(rescale=1. / 255)\n",
    "\n",
    "test_datagen = ImageDataGenerator(rescale=1. / 255)\n",
    "\n",
    "train_generator = train_datagen.flow_from_directory(train_dir,\n",
    "                                                    target_size=(img_rows, img_cols),\n",
    "                                                    batch_size=batch_size,\n",
    "                                                    class_mode='categorical',\n",
    "                                                    shuffle=False)\n",
    "\n",
    "validation_generator = validation_datagen.flow_from_directory(validation_dir,\n",
    "                                                              target_size=(img_rows, img_cols),\n",
    "                                                              batch_size=batch_size,\n",
    "                                                              class_mode='categorical',\n",
    "                                                              shuffle=False)\n",
    "\n",
    "# FIT\n",
    "\n",
    "history = model.fit_generator(train_generator,\n",
    "                              steps_per_epoch=num_of_train_samples // batch_size,\n",
    "                              epochs=epochs,\n",
    "                              validation_data=validation_generator,\n",
    "                              validation_steps=num_of_val_samples // batch_size,\n",
    "                              callbacks=[earlystop, csv_logger],\n",
    "                              verbose=2)\n",
    "\n",
    "# model.save(\"our_best_vgg16.h5\") # MODEL IS ALREADY SAVED!"
   ]
  },
  {
   "cell_type": "markdown",
   "metadata": {},
   "source": [
    "## 4.3 Evaluating the model's performance on the Test Set"
   ]
  },
  {
   "cell_type": "code",
   "execution_count": 108,
   "metadata": {
    "scrolled": false
   },
   "outputs": [
    {
     "name": "stdout",
     "output_type": "stream",
     "text": [
      "Model: \"sequential\"\n",
      "_________________________________________________________________\n",
      "Layer (type)                 Output Shape              Param #   \n",
      "=================================================================\n",
      "vgg16 (Model)                (None, 4, 4, 512)         14714688  \n",
      "_________________________________________________________________\n",
      "flatten (Flatten)            (None, 8192)              0         \n",
      "_________________________________________________________________\n",
      "dropout (Dropout)            (None, 8192)              0         \n",
      "_________________________________________________________________\n",
      "dense (Dense)                (None, 2056)              16844808  \n",
      "_________________________________________________________________\n",
      "dense_1 (Dense)              (None, 6)                 12342     \n",
      "=================================================================\n",
      "Total params: 31,571,838\n",
      "Trainable params: 16,857,150\n",
      "Non-trainable params: 14,714,688\n",
      "_________________________________________________________________\n",
      "Found 2272 images belonging to 6 classes.\n",
      "Found 1137 images belonging to 6 classes.\n",
      "Done with true labels\n",
      "Done with val pred\n",
      "Done with test pred\n",
      "\n",
      "                          ===============================\n",
      "                          Test Set Classification Report:\n",
      "                          ===============================\n",
      "\n",
      "                          precision    recall  f1-score   support\n",
      "\n",
      "Arte concreta figurativa      0.766     0.677     0.718       198\n",
      "             Classicismo      0.784     0.519     0.624       189\n",
      "          Espressionismo      0.648     0.774     0.706       195\n",
      "     Post-impressionismo      0.688     0.571     0.624       189\n",
      "            Rinascimento      0.570     0.807     0.668       171\n",
      "            Romanticismo      0.659     0.692     0.675       195\n",
      "\n",
      "                accuracy                          0.672      1137\n",
      "               macro avg      0.686     0.673     0.669      1137\n",
      "            weighted avg      0.688     0.672     0.670      1137\n",
      "\n"
     ]
    }
   ],
   "source": [
    "# confusion matrix\n",
    "\n",
    "def plot_confusion_matrix(y_true, y_pred, target_names, normalize=\"yes\", data=str):\n",
    "    \n",
    "    cm = confusion_matrix(y_true, y_pred)\n",
    "    if normalize == \"yes\":\n",
    "        cm = cm.astype('float') / cm.sum(axis=1)[:, np.newaxis]\n",
    "        for i in range(len(cm)):\n",
    "            for j in range(len(cm[i])):\n",
    "                cm[i][j] = round(cm[i][j], 2)\n",
    "    else: \n",
    "        pass\n",
    "    fig, ax = plt.subplots(figsize=(10,10))\n",
    "    im = ax.imshow(cm, cmap=\"PuBu\")\n",
    "    ax.set(xticks=np.arange(cm.shape[1]),\n",
    "           yticks=np.arange(cm.shape[0]),\n",
    "           xticklabels=target_names, \n",
    "           yticklabels=target_names,\n",
    "           ylim=(-0.5,5.5))\n",
    "\n",
    "    ax.set_title(f\"{data} Confusion Matrix\", size=25)\n",
    "    ax.set_ylabel('True label', size=20)\n",
    "    ax.set_xlabel('Predicted label', size=20)\n",
    "\n",
    "    # Rotate the tick labels and set their alignment.\n",
    "    plt.setp(ax.get_xticklabels(), rotation=45, ha=\"right\", size=15,\n",
    "             rotation_mode=\"anchor\")\n",
    "\n",
    "    plt.setp(ax.get_yticklabels(), rotation=0, ha=\"right\", size=15)\n",
    "    \n",
    "    if normalize == \"yes\":\n",
    "        thresh = 0.5\n",
    "    else:\n",
    "        thresh = 95\n",
    "\n",
    "    for i in range(len(target_names)):\n",
    "        for j in range(len(target_names)):\n",
    "            if cm[i, j]>=thresh:\n",
    "                color=\"w\"\n",
    "            else:\n",
    "                color=\"k\"\n",
    "            ax.text(j, i, cm[i, j],\n",
    "                        ha=\"center\", va=\"center\", size=13, \n",
    "                        color=color)\n",
    "\n",
    "    plt.show()\n",
    "\n",
    "\n",
    "warnings.simplefilter('ignore')\n",
    "\n",
    "config = tf.ConfigProto()\n",
    "config.gpu_options.allow_growth=True\n",
    "sess = tf.Session(config=config)\n",
    "\n",
    "model = load_model(\"our_best_vgg16.h5\")\n",
    "model.summary()\n",
    "\n",
    "main_dir = os.getcwd()\n",
    "\n",
    "validation_dir = f\"{main_dir}/REAL_DATA/Validation\"\n",
    "test_dir = f\"{main_dir}/REAL_DATA/Test\"\n",
    "\n",
    "img_rows = 150\n",
    "img_cols = 150\n",
    "batch_size = 32\n",
    "\n",
    "validation_datagen = ImageDataGenerator(rescale=1./255)\n",
    "\n",
    "test_datagen = ImageDataGenerator(rescale=1./255)\n",
    "\n",
    "validation_generator = validation_datagen.flow_from_directory(validation_dir,\n",
    "                                                              target_size=(img_rows, img_cols),\n",
    "                                                              batch_size=batch_size,\n",
    "                                                              class_mode='categorical',\n",
    "                                                              shuffle=False)\n",
    "\n",
    "test_generator = test_datagen.flow_from_directory(test_dir,\n",
    "                                                  target_size=(img_rows, img_cols),\n",
    "                                                  batch_size=batch_size, \n",
    "                                                  class_mode='categorical',\n",
    "                                                  shuffle=False)\n",
    "\n",
    "# THE LABELS\n",
    "# true ones\n",
    "y_true_val = validation_generator.classes # validation\n",
    "y_true_test = test_generator.classes #test\n",
    "\n",
    "print(\"Done with true labels\")\n",
    "# predicted ones\n",
    "\n",
    "# validation\n",
    "Y_pred_val = model.predict_generator(validation_generator, steps=len(validation_generator))\n",
    "y_pred_val = np.argmax(Y_pred_val, axis=1)\n",
    "print(\"Done with val pred\")\n",
    "#test\n",
    "Y_pred_test = model.predict_generator(test_generator, steps=len(test_generator))\n",
    "y_pred_test = np.argmax(Y_pred_test, axis=1)\n",
    "print(\"Done with test pred\")\n",
    "# names of the classes: thery are the same for all three datasets! \n",
    "target_names = list(train_generator.class_indices.keys())\n",
    "\n",
    "print(\"\"\"\n",
    "                          ===============================\n",
    "                          Test Set Classification Report:\n",
    "                          ===============================\n",
    "\"\"\")\n",
    "print(classification_report(y_true_test, y_pred_test, target_names=target_names, digits=3))"
   ]
  },
  {
   "cell_type": "code",
   "execution_count": 97,
   "metadata": {
    "scrolled": false
   },
   "outputs": [
    {
     "data": {
      "image/png": "[encoded data removed]",
      "text/plain": [
       "<Figure size 720x720 with 1 Axes>"
      ]
     },
     "metadata": {
      "needs_background": "light"
     },
     "output_type": "display_data"
    }
   ],
   "source": [
    "plot_confusion_matrix(y_true_test, y_pred_test, target_names, normalize='yes', data=\"Test Set\")"
   ]
  },
  {
   "cell_type": "markdown",
   "metadata": {},
   "source": [
    "The confusion matrix above shows the True positive rate, alongside with the proportions of missclassified samples.\n",
    "\n",
    "On average, we performed well on:\n",
    "\n",
    "**- Rinascimento**, with a recall of 81%\n",
    "\n",
    "**- **\n",
    "\n",
    "**-   ** \n",
    "\n",
    "**-   ** \n",
    "\n",
    "**-   **\n",
    "\n",
    "**-   **"
   ]
  },
  {
   "cell_type": "markdown",
   "metadata": {},
   "source": [
    "### Validation and train accuracy (SI PUO' ANCHE NON METTERE PERCHE' GIA' MESSA)"
   ]
  },
  {
   "cell_type": "markdown",
   "metadata": {},
   "source": [
    "## Classification report\n",
    "\n",
    "### here\n",
    "\n",
    "## Confusion matrix\n",
    "\n",
    "### here"
   ]
  },
  {
   "cell_type": "markdown",
   "metadata": {},
   "source": [
    "***Comments here***"
   ]
  },
  {
   "cell_type": "markdown",
   "metadata": {},
   "source": [
    "[Go back to top](#tocs)"
   ]
  },
  {
   "cell_type": "markdown",
   "metadata": {},
   "source": [
    "## 5. Style transfer  <a name=\"style_transfer\"></a>"
   ]
  },
  {
   "cell_type": "markdown",
   "metadata": {},
   "source": [
    "***comments here***"
   ]
  },
  {
   "cell_type": "code",
   "execution_count": null,
   "metadata": {},
   "outputs": [],
   "source": [
    "#create files\n",
    "style_name = \"closed_eyes.jpeg\"\n",
    "target_name = \"leo.jpeg\"\n",
    "\n",
    "target_image_path = os.getcwd()+'/images/'+target_name # the image we want to apply the style on\n",
    "style_reference_image_path = os.getcwd()+'/images/'+style_name # the path of the image of the style\n",
    "\n",
    "# creating folder for results\n",
    "all_files = os.listdir()\n",
    "out_folder_name = f'from_{style_name[:-5]}_to_{target_name[:-5]}'\n",
    "existing_folders=[int(file[-1]) for file in all_files if out_folder_name in file] # list of last iterations\n",
    "if len(existing_folders) == 0: # if there are no files, make the directory\n",
    "    final_directory = os.getcwd()+'/'+out_folder_name+'_0'\n",
    "    os.mkdir(final_directory)\n",
    "else:    \n",
    "    max_trial = max(existing_folders)\n",
    "    new_folder_index = max_trial+1\n",
    "    out_folder_name += f'_{str(new_folder_index)}'\n",
    "    final_directory = os.getcwd()+'/'+out_folder_name\n",
    "    os.mkdir(final_directory)\n",
    "\n",
    "# Choose the style and dimension of the resulting image\n",
    "\n",
    "width, height = load_img(target_image_path).size\n",
    "img_height = 400\n",
    "img_width = int(width * img_height / height)\n",
    "\n",
    "def preprocess_image(image_path):\n",
    "    img = load_img(image_path, target_size=(img_height, img_width))\n",
    "    img = img_to_array(img)\n",
    "    img = np.expand_dims(img, axis=0)\n",
    "    img = vgg19.preprocess_input(img)\n",
    "    return img\n",
    "\n",
    "def deprocess_image(x):\n",
    "    x[:, :, 0] += 103.939       \n",
    "    x[:, :, 1] += 116.779\n",
    "    x[:, :, 2] += 123.68\n",
    "    x = x[:, :, ::-1]\n",
    "    x = np.clip(x, 0, 255).astype('uint8')\n",
    "    return x\n",
    "\n",
    "def content_loss(base, combination):\n",
    "    return K.sum(K.square(combination - base))\n",
    "\n",
    "def gram_matrix(x):\n",
    "    features = K.batch_flatten(K.permute_dimensions(x, (2, 0, 1)))\n",
    "    gram = K.dot(features, K.transpose(features))\n",
    "    return gram\n",
    "\n",
    "def style_loss(style, combination):\n",
    "    S = gram_matrix(style)\n",
    "    C = gram_matrix(combination)\n",
    "    channels = 3\n",
    "    size = img_height * img_width\n",
    "    return K.sum(K.square(S - C)) / (4. * (channels ** 2) * (size ** 2))\n",
    "\n",
    "def total_variation_loss(x):\n",
    "    a = K.square(\n",
    "        x[:, :img_height - 1, :img_width - 1, :] -\n",
    "        x[:, 1:, :img_width - 1, :])\n",
    "    b = K.square(\n",
    "        x[:, :img_height - 1, :img_width - 1, :] -\n",
    "        x[:, :img_height - 1, 1:, :])\n",
    "    \n",
    "    return K.sum(K.pow(a + b, 1.25))\n",
    "\n",
    "target_image = K.constant(preprocess_image(target_image_path))\n",
    "style_reference_image_path = K.constant(preprocess_image(style_reference_image_path))\n",
    "combination_image = K.placeholder((1, img_height, img_width, 3)) # placeholder that will contain the generated image\n",
    "\n",
    "input_tensor = K.concatenate([target_image, style_reference_image_path, combination_image], axis=0) # concatenating 3 imgs in a single batch\n",
    "\n",
    "model = vgg19.VGG19(input_tensor=input_tensor, weights='imagenet', include_top=False)\n",
    "print(\"Model loaded.\")\n",
    "\n",
    "outputs_dict = dict([(layer.name, layer.output) for layer in model.layers])\n",
    "\n",
    "content_layer = 'block5_conv2'\n",
    "style_layers = ['block1_conv1', 'block2_conv1', 'block3_conv1', 'block4_conv1', 'block5_conv1']\n",
    "\n",
    "total_variation_weight = 1e-4\n",
    "style_weight = 1.\n",
    "content_weight = 0.025\n",
    "# loss: content loss and tot variation loss\n",
    "loss = K.variable(0.)\n",
    "layer_features = outputs_dict[content_layer]\n",
    "target_image_features = layer_features[0, :, :, :]\n",
    "combination_features = layer_features[2, :, :, :]\n",
    "loss = loss + content_weight * content_loss(target_image_features, combination_features)\n",
    "\n",
    "for layer_name in style_layers:\n",
    "    layer_features = outputs_dict[layer_name]\n",
    "    style_reference_features = layer_features[1, :, :, :]\n",
    "    combination_features = layer_features[2, :, :, :]\n",
    "    sl = style_loss(style_reference_features,\n",
    "                   combination_features)\n",
    "    loss += (style_weight / len(style_layers)) * sl\n",
    "\n",
    "loss += total_variation_weight * total_variation_loss(combination_image)\n",
    "\n",
    "# grad descend\n",
    "\n",
    "grads = K.gradients(loss, combination_image)[0]\n",
    "\n",
    "fetch_loss_and_grads = K.function([combination_image], [loss, grads])\n",
    "\n",
    "class Evaluator(object):\n",
    "    \n",
    "    def __init__(self):\n",
    "        self.loss_value = None\n",
    "        self.grad_values = None\n",
    "        \n",
    "    def loss(self, x):\n",
    "        assert self.loss_value is None\n",
    "        x = x.reshape((1, img_height, img_width, 3))\n",
    "        outs = fetch_loss_and_grads([x])\n",
    "        loss_value = outs[0]\n",
    "        grad_values = outs[1].flatten().astype('float64')\n",
    "        self.loss_value = loss_value\n",
    "        self.grad_values = grad_values\n",
    "        return self.loss_value\n",
    "    \n",
    "    def grads(self, x):\n",
    "        assert self.loss_value is not None\n",
    "        grad_values = np.copy(self.grad_values)\n",
    "        self.loss_value = None\n",
    "        self.grad_values = None\n",
    "        return grad_values\n",
    "        \n",
    "evaluator = Evaluator()\n",
    "\n",
    "result_prefix = '/my_result'\n",
    "iterations = 30\n",
    "\n",
    "x = preprocess_image(target_image_path)\n",
    "x = x.flatten()\n",
    "\n",
    "for i in range(iterations):\n",
    "    print('Start of iteration', i)\n",
    "    start_time = time.time()\n",
    "    x, min_val, info = fmin_l_bfgs_b(evaluator.loss,\n",
    "                                     x,\n",
    "                                     fprime=evaluator.grads,\n",
    "                                     maxfun=20)\n",
    "    \n",
    "    print('Current loss value:', min_val)\n",
    "    \n",
    "    img = x.copy().reshape((img_height, img_width, 3))\n",
    "    img = deprocess_image(img)\n",
    "    fname = result_prefix + f'_iter{i}.jpg'\n",
    "    \n",
    "    imsave(final_directory+fname, img)\n",
    "    print('Image saved as', fname)\n",
    "    end_time = time.time()\n",
    "    print(f'Iteration {i} completed in {end_time - start_time} seconds.')\n"
   ]
  },
  {
   "cell_type": "markdown",
   "metadata": {},
   "source": [
    "[Go back to top](#tocs)"
   ]
  },
  {
   "cell_type": "markdown",
   "metadata": {},
   "source": [
    "[Go back to top](#tocs)"
   ]
  },
  {
   "cell_type": "markdown",
   "metadata": {},
   "source": [
    "## 7. References <a name=\"references\"></a>"
   ]
  },
  {
   "cell_type": "markdown",
   "metadata": {},
   "source": [
    "- J. Yang, L. Chen, L. Zhang, X. Sun, D. She, S. Lu, M. Cheng (October 22-26, 2018). **\"Historical Context-based Style Classification of Painting Images via Label Distribution Learning\"**. College of Computer Science, Nankai University, Tianjin, China. Advanced Digital Sciences Center, Illinois at Singapore.  \n",
    "- K. Abe, B. Saleh, A. Elgammal (2013). **\"An Early Framework for Determining Artistic Influence\"**. Department of Computer Science Rutgers University.\n",
    "- B. Saleh, K. Abe, R. S. Arora, A. Elgammal (2014). **\"Toward automated discovery of artistic influence\"**. Springer Science+Business Media New York 2014.\n",
    "- T. W. (Sep 24th, 2013). **\"How do you spot a real Van Gogh\"**. The Economist Explains.\n",
    "- S. Lee, E. Cha (2016). **\"Style classification and visualizationof art painting’s genre using self‐organizing maps\"**. Human-centric Computing and Information Sciences.\n",
    "- F. Chollet (2017). **\"Deep learning with python\"**. Manning Shelter Island.\n",
    "- E. Cetinic, T. Lipic, S. Grgic (2018).**\"Fine-tuning convolutional neural networks for fine art classification\"**.\n",
    "- N. Viswanathan (2018). **\"Artist identification with convolutional neural networks\"**."
   ]
  },
  {
   "cell_type": "markdown",
   "metadata": {},
   "source": [
    "[Go back to top](#tocs)"
   ]
  }
 ],
 "metadata": {
  "kernelspec": {
   "display_name": "Python 3",
   "language": "python",
   "name": "python3"
  },
  "language_info": {
   "codemirror_mode": {
    "name": "ipython",
    "version": 3
   },
   "file_extension": ".py",
   "mimetype": "text/x-python",
   "name": "python",
   "nbconvert_exporter": "python",
   "pygments_lexer": "ipython3",
   "version": "3.6.9"
  }
 },
 "nbformat": 4,
 "nbformat_minor": 2
}
